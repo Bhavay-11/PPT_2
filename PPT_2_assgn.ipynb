{
 "cells": [
  {
   "cell_type": "markdown",
   "id": "33f4cff7",
   "metadata": {},
   "source": [
    "Q1)Given an integer array nums of 2n integers, group these integers into n pairs (a1, b1), (a2, b2),..., (an, bn) such that the sum of min(ai, bi) for all i is maximized. Return the maximized sum.\n",
    "\n",
    "Example 1:\n",
    "Input: nums = [1,4,3,2]\n",
    "Output: 4"
   ]
  },
  {
   "cell_type": "code",
   "execution_count": 1,
   "id": "5c9a77bd",
   "metadata": {},
   "outputs": [
    {
     "name": "stdout",
     "output_type": "stream",
     "text": [
      "4\n"
     ]
    }
   ],
   "source": [
    "def max_sum_of_min(nums):\n",
    "  \"\"\"\n",
    "  Given an integer array nums of 2n integers, group these integers into n pairs (a1, b1), (a2, b2),..., (an, bn) such that the sum of min(ai, bi) for all i is maximized. Return the maximized sum.\n",
    "\n",
    "  Args:\n",
    "    nums: A list of integers.\n",
    "\n",
    "  Returns:\n",
    "    The maximized sum.\n",
    "  \"\"\"\n",
    "\n",
    "  # Sort the array.\n",
    "  nums.sort()\n",
    "\n",
    "  # Initialize the sum.\n",
    "  sum = 0\n",
    "\n",
    "  # Create pairs of consecutive elements.\n",
    "  for i in range(0, len(nums), 2):\n",
    "    sum += min(nums[i], nums[i + 1])\n",
    "\n",
    "  # Return the sum.\n",
    "  return sum\n",
    "\n",
    "\n",
    "def main():\n",
    "  # Input.\n",
    "  nums = [1, 4, 3, 2]\n",
    "\n",
    "  # Solve.\n",
    "  max_sum = max_sum_of_min(nums)\n",
    "\n",
    "  # Print the result.\n",
    "  print(max_sum)\n",
    "\n",
    "\n",
    "if __name__ == \"__main__\":\n",
    "  main()\n"
   ]
  },
  {
   "cell_type": "markdown",
   "id": "76f43a54",
   "metadata": {},
   "source": [
    "Q2)Alice has n candies, where the ith candy is of type candyType[i]. Alice noticed that she started to gain weight, so she visited a doctor. \n",
    "\n",
    "The doctor advised Alice to only eat n / 2 of the candies she has (n is always even). Alice likes her candies very much, and she wants to eat the maximum number of different types of candies while still following the doctor's advice. \n",
    "\n",
    "Given the integer array candyType of length n, return the maximum number of different types of candies she can eat if she only eats n / 2 of them.\n",
    "\n",
    "Example 1:\n",
    "Input: candyType = [1,1,2,2,3,3]\n",
    "Output: 3"
   ]
  },
  {
   "cell_type": "code",
   "execution_count": 2,
   "id": "f66d6b39",
   "metadata": {},
   "outputs": [
    {
     "name": "stdout",
     "output_type": "stream",
     "text": [
      "3\n"
     ]
    }
   ],
   "source": [
    "def distribute_candies(candyType):\n",
    "  \"\"\"\n",
    "  Given the integer array candyType of length n, return the maximum number of different types of candies she can eat if she only eats n / 2 of them.\n",
    "\n",
    "  Args:\n",
    "    candyType: A list of integers.\n",
    "\n",
    "  Returns:\n",
    "    The maximum number of different types of candies.\n",
    "  \"\"\"\n",
    "\n",
    "  # Count the number of unique candies.\n",
    "  unique_candies = set(candyType)\n",
    "\n",
    "  # If the number of unique candies is less than or equal to half the length of candyType, then Alice can eat one of each type of candy and the answer is equal to the number of unique candies.\n",
    "  if len(unique_candies) <= len(candyType) // 2:\n",
    "    return len(unique_candies)\n",
    "\n",
    "  # Otherwise, the number of candies she can eat is limited to half the length of candyType, and so the answer is equal to half the length of candyType.\n",
    "  return len(candyType) // 2\n",
    "\n",
    "\n",
    "def main():\n",
    "  # Input.\n",
    "  candyType = [1, 1, 2, 2, 3, 3]\n",
    "\n",
    "  # Solve.\n",
    "  max_types = distribute_candies(candyType)\n",
    "\n",
    "  # Print the result.\n",
    "  print(max_types)\n",
    "\n",
    "\n",
    "if __name__ == \"__main__\":\n",
    "  main()\n"
   ]
  },
  {
   "cell_type": "markdown",
   "id": "f6b806d1",
   "metadata": {},
   "source": [
    "Q3)We define a harmonious array as an array where the difference between its maximum value\n",
    "and its minimum value is exactly 1.\n",
    "\n",
    "Given an integer array nums, return the length of its longest harmonious subsequence\n",
    "among all its possible subsequences.\n",
    "\n",
    "A subsequence of an array is a sequence that can be derived from the array by deleting some or no elements without changing the order of the remaining elements.\n",
    "\n",
    "Example 1:\n",
    "Input: nums = [1,3,2,2,5,2,3,7]\n",
    "Output: 5\n"
   ]
  },
  {
   "cell_type": "code",
   "execution_count": 3,
   "id": "50501d97",
   "metadata": {},
   "outputs": [
    {
     "name": "stdout",
     "output_type": "stream",
     "text": [
      "5\n"
     ]
    }
   ],
   "source": [
    "def longest_harmonious_subsequence(nums):\n",
    "  \"\"\"\n",
    "  Given an integer array nums, return the length of its longest harmonious subsequence among all its possible subsequences.\n",
    "\n",
    "  A subsequence of an array is a sequence that can be derived from the array by deleting some or no elements without changing the order of the remaining elements.\n",
    "\n",
    "  Args:\n",
    "    nums: A list of integers.\n",
    "\n",
    "  Returns:\n",
    "    The length of the longest harmonious subsequence.\n",
    "  \"\"\"\n",
    "\n",
    "  # Create a map that stores the number of times each element appears in the array.\n",
    "  count = {}\n",
    "  for num in nums:\n",
    "    if num not in count:\n",
    "      count[num] = 0\n",
    "    count[num] += 1\n",
    "\n",
    "  # Initialize the longest harmonious subsequence length.\n",
    "  longest = 0\n",
    "\n",
    "  # Iterate over the map.\n",
    "  for num, num_count in count.items():\n",
    "    # If the number is not harmonious, then ignore it.\n",
    "    if num + 1 not in count:\n",
    "      continue\n",
    "\n",
    "    # Otherwise, update the longest harmonious subsequence length.\n",
    "    longest = max(longest, num_count + count[num + 1])\n",
    "\n",
    "  # Return the longest harmonious subsequence length.\n",
    "  return longest\n",
    "\n",
    "\n",
    "def main():\n",
    "  # Input.\n",
    "  nums = [1, 3, 2, 2, 5, 2, 3, 7]\n",
    "\n",
    "  # Solve.\n",
    "  longest_subsequence_length = longest_harmonious_subsequence(nums)\n",
    "\n",
    "  # Print the result.\n",
    "  print(longest_subsequence_length)\n",
    "\n",
    "\n",
    "if __name__ == \"__main__\":\n",
    "  main()\n"
   ]
  },
  {
   "cell_type": "markdown",
   "id": "cdf48399",
   "metadata": {},
   "source": [
    "Q4)You have a long flowerbed in which some of the plots are planted, and some are not.\n",
    "However, flowers cannot be planted in adjacent plots.\n",
    "Given an integer array flowerbed containing 0's and 1's, where 0 means empty and 1 means not empty, and an integer n, return true if n new flowers can be planted in the flowerbed without violating the no-adjacent-flowers rule and false otherwise.\n",
    "\n",
    "Example 1:\n",
    "Input: flowerbed = [1,0,0,0,1], n = 1\n",
    "Output: true"
   ]
  },
  {
   "cell_type": "code",
   "execution_count": 4,
   "id": "30ba08b8",
   "metadata": {},
   "outputs": [
    {
     "name": "stdout",
     "output_type": "stream",
     "text": [
      "True\n"
     ]
    }
   ],
   "source": [
    "def can_place_flowers(flowerbed, n):\n",
    "  \"\"\"\n",
    "  Given an integer array flowerbed containing 0's and 1's, where 0 means empty and 1 means not empty, and an integer n, return true if n new flowers can be planted in the flowerbed without violating the no-adjacent-flowers rule and false otherwise.\n",
    "\n",
    "  Args:\n",
    "    flowerbed: A list of integers.\n",
    "    n: The number of flowers to plant.\n",
    "\n",
    "  Returns:\n",
    "    True if n flowers can be planted, False otherwise.\n",
    "  \"\"\"\n",
    "\n",
    "  # Initialize the number of empty plots.\n",
    "  empty_plots = 0\n",
    "\n",
    "  # Iterate over the flowerbed.\n",
    "  for i in range(len(flowerbed)):\n",
    "    # If the current plot is empty, then increment the number of empty plots.\n",
    "    if flowerbed[i] == 0:\n",
    "      empty_plots += 1\n",
    "\n",
    "    # If the current plot is not empty and the number of empty plots is greater than or equal to n, then plant a flower in the current plot and decrement the number of empty plots by 1.\n",
    "    elif flowerbed[i] == 1 and empty_plots >= n:\n",
    "      flowerbed[i] = 2\n",
    "      empty_plots -= 1\n",
    "\n",
    "  # If the number of empty plots is less than n, then the n flowers cannot be planted.\n",
    "  if empty_plots < n:\n",
    "    return False\n",
    "\n",
    "  # Otherwise, the n flowers can be planted.\n",
    "  return True\n",
    "\n",
    "\n",
    "def main():\n",
    "  # Input.\n",
    "  flowerbed = [1, 0, 0, 0, 1]\n",
    "  n = 1\n",
    "\n",
    "  # Solve.\n",
    "  can_plant = can_place_flowers(flowerbed, n)\n",
    "\n",
    "  # Print the result.\n",
    "  print(can_plant)\n",
    "\n",
    "\n",
    "if __name__ == \"__main__\":\n",
    "  main()\n"
   ]
  },
  {
   "cell_type": "markdown",
   "id": "b95ee1fc",
   "metadata": {},
   "source": [
    "Q5)Given an integer array nums, find three numbers whose product is maximum and return the maximum product.\n",
    "\n",
    "Example 1:\n",
    "Input: nums = [1,2,3]\n",
    "Output: 6"
   ]
  },
  {
   "cell_type": "code",
   "execution_count": 5,
   "id": "f0ac594b",
   "metadata": {},
   "outputs": [
    {
     "name": "stdout",
     "output_type": "stream",
     "text": [
      "27\n"
     ]
    }
   ],
   "source": [
    "def max_product_of_three(nums):\n",
    "  \"\"\"\n",
    "  Finds the maximum product of three numbers in an array.\n",
    "\n",
    "  Args:\n",
    "    nums: An array of integers.\n",
    "\n",
    "  Returns:\n",
    "    The maximum product of three numbers in the array.\n",
    "  \"\"\"\n",
    "\n",
    "  # Find the three largest numbers in the array.\n",
    "  largest_num1 = max(nums)\n",
    "  largest_num2 = max(nums[1:], key=lambda x: x * largest_num1)\n",
    "  largest_num3 = max(nums[2:], key=lambda x: x * largest_num1 * largest_num2)\n",
    "\n",
    "  # Return the product of the three largest numbers.\n",
    "  return largest_num1 * largest_num2 * largest_num3\n",
    "\n",
    "\n",
    "if __name__ == \"__main__\":\n",
    "  nums = [1, 2, 3]\n",
    "  print(max_product_of_three(nums))\n"
   ]
  },
  {
   "cell_type": "markdown",
   "id": "f9174635",
   "metadata": {},
   "source": [
    "Q6)Given an array of integers nums which is sorted in ascending order, and an integer target,\n",
    "write a function to search target in nums. If target exists, then return its index. Otherwise,\n",
    "return -1.\n",
    "\n",
    "You must write an algorithm with O(log n) runtime complexity.\n",
    "\n",
    "Input: nums = [-1,0,3,5,9,12], target = 9\n",
    "Output: 4\n",
    "\n",
    "Explanation: 9 exists in nums and its index is 4\n"
   ]
  },
  {
   "cell_type": "code",
   "execution_count": 6,
   "id": "50f99bfd",
   "metadata": {},
   "outputs": [
    {
     "name": "stdout",
     "output_type": "stream",
     "text": [
      "4\n"
     ]
    }
   ],
   "source": [
    "def binary_search(nums, target):\n",
    "  \"\"\"\n",
    "  Searches for target in nums, which is sorted in ascending order.\n",
    "\n",
    "  Args:\n",
    "    nums: An array of integers.\n",
    "    target: The integer to search for.\n",
    "\n",
    "  Returns:\n",
    "    The index of target in nums, if it exists. Otherwise, -1.\n",
    "  \"\"\"\n",
    "\n",
    "  # Initialize the left and right pointers.\n",
    "  left = 0\n",
    "  right = len(nums) - 1\n",
    "\n",
    "  # Loop while the left pointer is less than or equal to the right pointer.\n",
    "  while left <= right:\n",
    "    # Find the middle element.\n",
    "    mid = (left + right) // 2\n",
    "\n",
    "    # Check if the middle element is equal to target.\n",
    "    if nums[mid] == target:\n",
    "      # Return the index of the middle element.\n",
    "      return mid\n",
    "\n",
    "    # If the middle element is less than target, then the target must be\n",
    "    # in the right half of the array.\n",
    "    elif nums[mid] < target:\n",
    "      left = mid + 1\n",
    "\n",
    "    # Otherwise, the target must be in the left half of the array.\n",
    "    else:\n",
    "      right = mid - 1\n",
    "\n",
    "  # If the loop terminates, then target does not exist in the array.\n",
    "  return -1\n",
    "\n",
    "\n",
    "if __name__ == \"__main__\":\n",
    "  nums = [-1, 0, 3, 5, 9, 12]\n",
    "  target = 9\n",
    "  print(binary_search(nums, target))\n"
   ]
  },
  {
   "cell_type": "markdown",
   "id": "06322eb0",
   "metadata": {},
   "source": [
    "Q7)An array is monotonic if it is either monotone increasing or monotone decreasing.\n",
    "\n",
    "An array nums is monotone increasing if for all i <= j, nums[i] <= nums[j]. An array nums is\n",
    "monotone decreasing if for all i <= j, nums[i] >= nums[j].\n",
    "\n",
    "Given an integer array nums, return true if the given array is monotonic, or false otherwise.\n",
    "\n",
    "Example 1:\n",
    "Input: nums = [1,2,2,3]\n",
    "Output: true\n"
   ]
  },
  {
   "cell_type": "code",
   "execution_count": 7,
   "id": "177e00ed",
   "metadata": {},
   "outputs": [
    {
     "name": "stdout",
     "output_type": "stream",
     "text": [
      "True\n"
     ]
    }
   ],
   "source": [
    "def is_monotonic(nums):\n",
    "  \"\"\"\n",
    "  Checks if an array is monotonic.\n",
    "\n",
    "  Args:\n",
    "    nums: An array of integers.\n",
    "\n",
    "  Returns:\n",
    "    True if the array is monotonic, False otherwise.\n",
    "  \"\"\"\n",
    "\n",
    "  # Check if the array has only one element.\n",
    "  if len(nums) == 1:\n",
    "    return True\n",
    "\n",
    "  # Check if the array is monotone increasing.\n",
    "  increasing = True\n",
    "  for i in range(1, len(nums)):\n",
    "    if nums[i] < nums[i - 1]:\n",
    "      increasing = False\n",
    "      break\n",
    "\n",
    "  # Check if the array is monotone decreasing.\n",
    "  decreasing = True\n",
    "  for i in range(1, len(nums)):\n",
    "    if nums[i] > nums[i - 1]:\n",
    "      decreasing = False\n",
    "      break\n",
    "\n",
    "  # Return True if the array is monotone, False otherwise.\n",
    "  return increasing or decreasing\n",
    "\n",
    "\n",
    "if __name__ == \"__main__\":\n",
    "  nums = [1, 2, 2, 3]\n",
    "  print(is_monotonic(nums))\n"
   ]
  },
  {
   "cell_type": "markdown",
   "id": "536457ac",
   "metadata": {},
   "source": [
    "Q8)You are given an integer array nums and an integer k.\n",
    "\n",
    "In one operation, you can choose any index i where 0 <= i < nums.length and change nums[i] to nums[i] + x where x is an integer from the range [-k, k]. You can apply this operation at most once for each index i.\n",
    "\n",
    "The score of nums is the difference between the maximum and minimum elements in nums.\n",
    "\n",
    "Return the minimum score of nums after applying the mentioned operation at most once for each index in it.\n",
    "\n",
    "Example 1:\n",
    "Input: nums = [1], k = 0\n",
    "Output: 0"
   ]
  },
  {
   "cell_type": "code",
   "execution_count": 8,
   "id": "2a321c5f",
   "metadata": {},
   "outputs": [
    {
     "name": "stdout",
     "output_type": "stream",
     "text": [
      "0\n"
     ]
    }
   ],
   "source": [
    "def min_score(nums, k):\n",
    "  \"\"\"\n",
    "  Finds the minimum score of an array after applying the mentioned operation at most once for each index in it.\n",
    "\n",
    "  Args:\n",
    "    nums: An array of integers.\n",
    "    k: The maximum amount that an element can be changed by.\n",
    "\n",
    "  Returns:\n",
    "    The minimum score of nums.\n",
    "  \"\"\"\n",
    "\n",
    "  # Find the maximum and minimum elements in the array.\n",
    "  max_num = max(nums)\n",
    "  min_num = min(nums)\n",
    "\n",
    "  # Initialize the minimum score.\n",
    "  min_score = max_num - min_num\n",
    "\n",
    "  # Loop through each element in the array.\n",
    "  for i in range(len(nums)):\n",
    "    # Find the new value of the element after applying the operation.\n",
    "    new_num = nums[i] + min(k, max_num - nums[i])\n",
    "\n",
    "    # Update the minimum score if the new value is smaller.\n",
    "    min_score = min(min_score, max_num - new_num)\n",
    "\n",
    "  # Return the minimum score.\n",
    "  return min_score\n",
    "\n",
    "\n",
    "if __name__ == \"__main__\":\n",
    "  nums = [1]\n",
    "  k = 0\n",
    "  print(min_score(nums, k))\n"
   ]
  },
  {
   "cell_type": "code",
   "execution_count": null,
   "id": "9e57da8a",
   "metadata": {},
   "outputs": [],
   "source": []
  }
 ],
 "metadata": {
  "kernelspec": {
   "display_name": "Python 3 (ipykernel)",
   "language": "python",
   "name": "python3"
  },
  "language_info": {
   "codemirror_mode": {
    "name": "ipython",
    "version": 3
   },
   "file_extension": ".py",
   "mimetype": "text/x-python",
   "name": "python",
   "nbconvert_exporter": "python",
   "pygments_lexer": "ipython3",
   "version": "3.9.13"
  }
 },
 "nbformat": 4,
 "nbformat_minor": 5
}
